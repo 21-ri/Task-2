{
 "cells": [
  {
   "cell_type": "code",
   "execution_count": 1,
   "metadata": {},
   "outputs": [],
   "source": [
    "from flask import Flask, Response\n",
    "import socket\n",
    "import numpy as np"
   ]
  },
  {
   "cell_type": "code",
   "execution_count": 2,
   "metadata": {},
   "outputs": [],
   "source": [
    "app = Flask(__name__)\n"
   ]
  },
  {
   "cell_type": "code",
   "execution_count": 3,
   "metadata": {},
   "outputs": [],
   "source": [
    "UDP_IP = \"127.0.0.1\"  # Update this with the sender's IP address\n",
    "UDP_PORT = 22345  # Update this with the sender's UDP port"
   ]
  },
  {
   "cell_type": "code",
   "execution_count": 4,
   "metadata": {},
   "outputs": [],
   "source": [
    "udp_socket = socket.socket(socket.AF_INET, socket.SOCK_DGRAM)"
   ]
  },
  {
   "cell_type": "code",
   "execution_count": 5,
   "metadata": {},
   "outputs": [],
   "source": [
    "try:\n",
    "    udp_socket.bind((UDP_IP, UDP_PORT))\n",
    "except Exception as error:\n",
    "    print(error)\n",
    "    udp_socket.shutdown(1)\n",
    "    udp_socket.close()\n",
    "    exit(1)"
   ]
  },
  {
   "cell_type": "code",
   "execution_count": 6,
   "metadata": {},
   "outputs": [],
   "source": [
    "def receive_frames():\n",
    "    while True:\n",
    "        try:\n",
    "          data, _ = udp_socket.recvfrom(54* 96* 4)\n",
    "          print(len(data))\n",
    "          image = np.frombuffer(data, dtype=np.uint8).reshape(54, 96, 4)\n",
    "\n",
    "          # Encode the gray square as a JPEG image\n",
    "          _, frame_bytes = cv2.imencode('.jpg', image)\n",
    "\n",
    "          yield (b'--frame\\r\\n'\n",
    "                b'Content-Type: image/jpeg\\r\\n\\r\\n' + frame_bytes.tobytes() + b'\\r\\n')\n",
    "        except KeyboardInterrupt:\n",
    "            if udp_socket:\n",
    "              udp_socket.close()\n",
    "              exit(2)\n",
    "\n"
   ]
  },
  {
   "cell_type": "code",
   "execution_count": 7,
   "metadata": {},
   "outputs": [],
   "source": [
    "@app.route('/video_feed')\n",
    "def video_feed():\n",
    "    return Response(receive_frames(), mimetype='multipart/x-mixed-replace; boundary=frame')\n",
    "\n"
   ]
  },
  {
   "cell_type": "code",
   "execution_count": 2,
   "metadata": {},
   "outputs": [
    {
     "ename": "NameError",
     "evalue": "name 'app' is not defined",
     "output_type": "error",
     "traceback": [
      "\u001b[0;31m---------------------------------------------------------------------------\u001b[0m",
      "\u001b[0;31mNameError\u001b[0m                                 Traceback (most recent call last)",
      "Cell \u001b[0;32mIn[2], line 1\u001b[0m\n\u001b[0;32m----> 1\u001b[0m \u001b[39m@app\u001b[39m\u001b[39m.\u001b[39mroute(\u001b[39m'\u001b[39m\u001b[39m/\u001b[39m\u001b[39m'\u001b[39m)\n\u001b[1;32m      2\u001b[0m \u001b[39mdef\u001b[39;00m \u001b[39mindex\u001b[39m():\n\u001b[1;32m      3\u001b[0m     image_url \u001b[39m=\u001b[39m \u001b[39m\"\u001b[39m\u001b[39m/Users/parthshah/Desktop/ML Project/Python Full Course for Beginners.mp4\u001b[39m\u001b[39m\"\u001b[39m\n\u001b[1;32m      4\u001b[0m     \u001b[39mreturn\u001b[39;00m render_template(\u001b[39m'\u001b[39m\u001b[39mindex.html\u001b[39m\u001b[39m'\u001b[39m, image_url\u001b[39m=\u001b[39mimage_url)\n",
      "\u001b[0;31mNameError\u001b[0m: name 'app' is not defined"
     ]
    }
   ],
   "source": [
    "@app.route('/')\n",
    "def index():\n",
    "    image_url = \"/Users/parthshah/Desktop/ML Project/python.jpeg\"\n",
    "    return render_template('index.html', image_url=image_url)\n",
    "\n",
    "if __name__ == \"__main__\":\n",
    "    app.run(host='0.0.0.0', port=9000, debug=True)\n",
    "  \n",
    "\n"
   ]
  }
 ],
 "metadata": {
  "kernelspec": {
   "display_name": "Python 3",
   "language": "python",
   "name": "python3"
  },
  "language_info": {
   "codemirror_mode": {
    "name": "ipython",
    "version": 3
   },
   "file_extension": ".py",
   "mimetype": "text/x-python",
   "name": "python",
   "nbconvert_exporter": "python",
   "pygments_lexer": "ipython3",
   "version": "3.9.6"
  },
  "orig_nbformat": 4
 },
 "nbformat": 4,
 "nbformat_minor": 2
}
